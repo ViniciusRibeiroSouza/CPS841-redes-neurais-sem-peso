{
 "nbformat": 4,
 "nbformat_minor": 0,
 "metadata": {
  "colab": {
   "provenance": []
  },
  "kernelspec": {
   "display_name": "Python 3",
   "name": "python3"
  }
 },
 "cells": [
  {
   "cell_type": "markdown",
   "source": [
    "## Wisard Notebook -- Kuzushiji-MNIST"
   ],
   "metadata": {
    "collapsed": false
   }
  },
  {
   "cell_type": "code",
   "metadata": {
    "id": "YYh75Zz_GJt7"
   },
   "source": [
    "import os\n",
    "import numpy as np\n",
    "import wisardpkg as wp\n",
    "import matplotlib.pyplot as plt"
   ],
   "execution_count": 3,
   "outputs": []
  },
  {
   "cell_type": "code",
   "execution_count": 10,
   "outputs": [],
   "source": [
    "def get_dataset_path(dataset_name: str):\n",
    "    base_path = os.path.dirname(os.getcwd())\n",
    "    return os.path.join(base_path,'data', dataset_name)"
   ],
   "metadata": {
    "collapsed": false
   }
  },
  {
   "cell_type": "code",
   "source": [
    "def load(f):\n",
    "    return np.load(f)['arr_0']\n",
    "\n",
    "# Load the data\n",
    "x_train = load(get_dataset_path('kmnist-train-imgs.npz'))\n",
    "x_test = load(get_dataset_path('kmnist-test-imgs.npz'))\n",
    "y_train = load(get_dataset_path('kmnist-train-labels.npz'))\n",
    "y_test = load(get_dataset_path('kmnist-test-labels.npz'))"
   ],
   "metadata": {
    "id": "NDSz7DuSHlny",
    "executionInfo": {
     "status": "error",
     "timestamp": 1668798206285,
     "user_tz": 180,
     "elapsed": 17,
     "user": {
      "displayName": "Allan Campos",
      "userId": "17337050212651357016"
     }
    },
    "colab": {
     "base_uri": "https://localhost:8080/",
     "height": 381
    },
    "outputId": "319b3913-a3f6-4464-b0e2-28c1f577f4bc"
   },
   "execution_count": 11,
   "outputs": []
  },
  {
   "cell_type": "code",
   "source": [
    "#flatten images\n",
    "x_train = x_train.reshape(-1, 784)\n",
    "x_test = x_test.reshape(-1, 784)"
   ],
   "metadata": {
    "id": "vaTjbPtHPveO"
   },
   "execution_count": 12,
   "outputs": []
  },
  {
   "cell_type": "code",
   "source": [
    "y_train=y_train.astype(str)\n",
    "y_test=y_test.astype(str)"
   ],
   "metadata": {
    "id": "en_vIddZhAvR"
   },
   "execution_count": 13,
   "outputs": []
  },
  {
   "cell_type": "code",
   "metadata": {
    "id": "r46ZatAwUvOO"
   },
   "source": [
    "def sample_digit(target, X=x_train, y=y_train):\n",
    "    return next((digit for (digit, label) in zip(X, y) if label == np.array(str(target)))).reshape((28,28))\n",
    "\n",
    "def display_mnist_digits():\n",
    "    fig, axs = plt.subplots(2, 5)\n",
    "    \n",
    "    for i in range(2):\n",
    "        for j in range(5):\n",
    "            axs[i, j].imshow(sample_digit(5*i + j), cmap=\"gray\")\n",
    "            axs[i, j].axes.xaxis.set_visible(False)\n",
    "            axs[i, j].axes.yaxis.set_visible(False)\n",
    "  \n",
    "    return fig"
   ],
   "execution_count": 14,
   "outputs": []
  },
  {
   "cell_type": "code",
   "metadata": {
    "id": "JpLZDtw7V60v"
   },
   "source": [
    "display_mnist_digits();"
   ],
   "execution_count": 15,
   "outputs": [
    {
     "data": {
      "text/plain": "<Figure size 640x480 with 10 Axes>",
      "image/png": "[encoded data removed]"
     },
     "metadata": {},
     "output_type": "display_data"
    }
   ]
  },
  {
   "cell_type": "code",
   "metadata": {
    "id": "Jb1FqfXUJr1h"
   },
   "source": [
    "x_train[0].shape"
   ],
   "execution_count": 16,
   "outputs": [
    {
     "data": {
      "text/plain": "(784,)"
     },
     "execution_count": 16,
     "metadata": {},
     "output_type": "execute_result"
    }
   ]
  },
  {
   "cell_type": "code",
   "metadata": {
    "id": "d4hfBw5QqnxO"
   },
   "source": [
    "def binarize(image, threshold):\n",
    "  return np.where(image > threshold, 1, 0).tolist()\n",
    "\n",
    "\n",
    "def binary_encoder(images, threshold=127):\n",
    "  return [binarize(image, threshold) for image in images]"
   ],
   "execution_count": 17,
   "outputs": []
  },
  {
   "cell_type": "code",
   "metadata": {
    "id": "Inx45W1mq1wl"
   },
   "source": [
    "X_train = binary_encoder(x_train)\n",
    "X_test = binary_encoder(x_test)"
   ],
   "execution_count": 18,
   "outputs": []
  },
  {
   "cell_type": "code",
   "metadata": {
    "id": "KEXfTRHLrGqx"
   },
   "source": [
    "%%time\n",
    "model = wp.Wisard(3)\n",
    "\n",
    "model.train(X_train, y_train.tolist())"
   ],
   "execution_count": null,
   "outputs": []
  },
  {
   "cell_type": "code",
   "metadata": {
    "id": "f6jRiqgzrLnA"
   },
   "source": [
    "def accuracy(y_pred, y_target):\n",
    "  return np.where(y_pred == y_target, 1, 0).sum()/len(y_target)"
   ],
   "execution_count": null,
   "outputs": []
  },
  {
   "cell_type": "code",
   "metadata": {
    "id": "fXQrEfJ4rO01"
   },
   "source": [
    "%%time\n",
    "accuracy(model.classify(X_test), y_test)"
   ],
   "execution_count": null,
   "outputs": []
  },
  {
   "cell_type": "code",
   "metadata": {
    "id": "zJmh5wYboJGi"
   },
   "source": [
    "def display_digits(images):\n",
    "  fig, axs = plt.subplots(2, 5, squeeze=True)\n",
    "\n",
    "  for i, img in enumerate(images.values()):\n",
    "    img = np.reshape(img, (28, 28))\n",
    "    img = img/np.max(img)\n",
    "    fig.axes[i].imshow(img, cmap=\"gray\", vmin=0., vmax=1.)\n",
    "    fig.axes[i].xaxis.set_visible(False)\n",
    "    fig.axes[i].yaxis.set_visible(False)\n",
    "\n",
    "  return fig"
   ],
   "execution_count": null,
   "outputs": []
  },
  {
   "cell_type": "code",
   "source": [
    "display_digits(model.getMentalImages());"
   ],
   "metadata": {
    "id": "ChsIGJJUmUxD"
   },
   "execution_count": null,
   "outputs": []
  },
  {
   "cell_type": "code",
   "metadata": {
    "id": "UL-HrqeirQV8"
   },
   "source": [
    "%%time\n",
    "model_2 = wp.Wisard(28)\n",
    "\n",
    "model_2.train(X_train, y_train.tolist())"
   ],
   "execution_count": null,
   "outputs": []
  },
  {
   "cell_type": "code",
   "source": [
    "print(accuracy(model_2.classify(X_test), y_test))"
   ],
   "metadata": {
    "id": "I7BcAyz0SAra"
   },
   "execution_count": null,
   "outputs": []
  },
  {
   "cell_type": "code",
   "metadata": {
    "id": "7ThFYj8ZostH"
   },
   "source": [
    "display_digits(model_2.getMentalImages());"
   ],
   "execution_count": null,
   "outputs": []
  },
  {
   "cell_type": "markdown",
   "metadata": {
    "id": "gTLcU4LbEe7j"
   },
   "source": [
    "ClusWiSARD"
   ]
  },
  {
   "cell_type": "code",
   "metadata": {
    "id": "F5Y5fKQjEebM"
   },
   "source": [
    "%%time\n",
    "model_clus = wp.ClusWisard(28, 0.1, 10, 5)\n",
    "\n",
    "model_clus.train(X_train, y_train.tolist())"
   ],
   "execution_count": null,
   "outputs": []
  },
  {
   "cell_type": "code",
   "metadata": {
    "id": "yrj4irWiE8-L"
   },
   "source": [
    "print(accuracy(model_clus.classify(X_test), y_test))"
   ],
   "execution_count": null,
   "outputs": []
  },
  {
   "cell_type": "code",
   "metadata": {
    "id": "z37Qiz0tFRbx"
   },
   "source": [
    "mimgs = model_clus.getMentalImages()\n",
    "mings = {label: np.array(mimgs[label]).sum(axis=0) for label in mimgs.keys()}"
   ],
   "execution_count": null,
   "outputs": []
  },
  {
   "cell_type": "code",
   "source": [
    "display_digits(mings)"
   ],
   "metadata": {
    "id": "EHxXTaYwH85q"
   },
   "execution_count": null,
   "outputs": []
  }
 ]
}
