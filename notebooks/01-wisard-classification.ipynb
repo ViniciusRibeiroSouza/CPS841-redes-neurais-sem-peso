{
 "nbformat": 4,
 "nbformat_minor": 0,
 "metadata": {
  "colab": {
   "provenance": [],
   "collapsed_sections": []
  },
  "kernelspec": {
   "display_name": "Python 3",
   "name": "python3"
  }
 },
 "cells": [
  {
   "cell_type": "code",
   "metadata": {
    "id": "YYh75Zz_GJt7"
   },
   "source": [
    "import wisardpkg as wp\n",
    "import numpy as np\n",
    "import matplotlib.pyplot as plt\n",
    "from sklearn.datasets import fetch_openml\n",
    "from sklearn.model_selection import train_test_split"
   ],
   "execution_count": 1,
   "outputs": []
  },
  {
   "cell_type": "markdown",
   "metadata": {
    "id": "7w6ZiTMMICOJ"
   },
   "source": [
    "# WisardPkg: Uma Implementação da família de Modelos WiSARD"
   ]
  },
  {
   "cell_type": "markdown",
   "metadata": {
    "id": "2lJ7Rx9cJURr"
   },
   "source": [
    "## 1. Introdução\n",
    "\n",
    "`wisardpkg` é uma biblioteca que implementa o algorimo *WiSARD* original e também múltiplos algoritmos variantes que foram propostos mais recentemente. É inteiramente implementada em C++, mas possui um wrapper em Python para uso mais conveniente. A biblioteca é hospedada no [Github](https://github.com/IAZero/wisardpkg)."
   ]
  },
  {
   "cell_type": "markdown",
   "metadata": {
    "id": "mAjxri_kP65T"
   },
   "source": [
    "## 2. Exemplo inicial\n",
    "\n"
   ]
  },
  {
   "cell_type": "markdown",
   "metadata": {
    "id": "mWWpnpGcSsSU"
   },
   "source": [
    "Para dar um primeiro exemplo de como podemos empregar a WiSARD, vamos pensar na tarefa de distinguir dois caracteres em imagens 3 x 3: os caracteres \"T\" e \"H\". Abaixo vemos as duas imagens que usaremos como exemplos de treino:"
   ]
  },
  {
   "cell_type": "code",
   "metadata": {
    "id": "UD8sGXbMIGbg"
   },
   "source": [
    "T = [\n",
    "  [1, 1, 1],\n",
    "  [0, 1, 0],\n",
    "  [0, 1, 0]\n",
    "]\n",
    "\n",
    "H = [\n",
    "  [1, 0, 1],\n",
    "  [1, 1, 1],\n",
    "  [1, 0, 1]\n",
    "]\n",
    "\n",
    "def display_chars(chars):\n",
    "  fig, axs = plt.subplots(1, len(chars))\n",
    "\n",
    "  for i, char in enumerate(chars):\n",
    "    img = char/np.max(char)\n",
    "    axs[i].imshow(char, cmap=\"gray_r\", vmin=0., vmax=1.)\n",
    "    axs[i].axes.xaxis.set_visible(False)\n",
    "    axs[i].axes.yaxis.set_visible(False)\n",
    "\n",
    "  return fig\n"
   ],
   "execution_count": 2,
   "outputs": []
  },
  {
   "cell_type": "code",
   "metadata": {
    "colab": {
     "base_uri": "https://localhost:8080/",
     "height": 187
    },
    "id": "FtW7NJtkWgUu",
    "outputId": "a9304d62-dfd1-4c88-eb51-0db6c17209b7"
   },
   "source": [
    "display_chars([T, H]);"
   ],
   "execution_count": 3,
   "outputs": [
    {
     "data": {
      "text/plain": "<Figure size 640x480 with 2 Axes>",
      "image/png": "[encoded data removed]"
     },
     "metadata": {},
     "output_type": "display_data"
    }
   ]
  },
  {
   "cell_type": "markdown",
   "metadata": {
    "id": "sueJvfadXrt0"
   },
   "source": [
    "Agora, vamos treinar um modelo sobre esses dois caracteres:"
   ]
  },
  {
   "cell_type": "code",
   "metadata": {
    "id": "eWOFszYZaVoQ"
   },
   "source": [
    "def flatten(char):\n",
    "  return np.reshape(char, (-1,)).tolist()"
   ],
   "execution_count": 4,
   "outputs": []
  },
  {
   "cell_type": "code",
   "metadata": {
    "id": "H9ecB2VLZQyf"
   },
   "source": [
    "model = wp.Wisard(3)\n",
    "\n",
    "training_set = [flatten(char) for char in [T, H]]\n",
    "\n",
    "model.train(training_set, [\"T\", \"H\"])"
   ],
   "execution_count": 5,
   "outputs": []
  },
  {
   "cell_type": "markdown",
   "metadata": {
    "id": "QzQ2bZQ1a1VL"
   },
   "source": [
    "Podemos testar contra os próprios exemplos de treino:"
   ]
  },
  {
   "cell_type": "code",
   "metadata": {
    "colab": {
     "base_uri": "https://localhost:8080/"
    },
    "id": "KOaLl-_Yavda",
    "outputId": "23c051ab-feda-4b2e-efcf-a9f7559e7da5"
   },
   "source": [
    "model.classify(training_set)"
   ],
   "execution_count": 6,
   "outputs": [
    {
     "data": {
      "text/plain": "['T', 'H']"
     },
     "execution_count": 6,
     "metadata": {},
     "output_type": "execute_result"
    }
   ]
  },
  {
   "cell_type": "markdown",
   "metadata": {
    "id": "8T3VPv3mdy17"
   },
   "source": [
    "Ser capaz de classificar corretamente imagens já vistas antes, no entanto, não é muito surpreendente. Como o modelo se sai com exemplos novos?"
   ]
  },
  {
   "cell_type": "code",
   "metadata": {
    "colab": {
     "base_uri": "https://localhost:8080/",
     "height": 133
    },
    "id": "mvur8cq0dl4T",
    "outputId": "fa177205-b9b9-48fc-a3db-31a45a914db3"
   },
   "source": [
    "new_examples = [\n",
    "  [\n",
    "   [1, 1, 0],\n",
    "   [0, 1, 0],\n",
    "   [0, 1, 0]\n",
    "  ],\n",
    "  [\n",
    "   [1, 0, 1],\n",
    "   [1, 1, 1],\n",
    "   [1, 1, 1]\n",
    "  ],\n",
    "  [\n",
    "   [0, 1, 0],\n",
    "   [0, 1, 1],\n",
    "   [0, 1, 1]\n",
    "  ]\n",
    "]\n",
    "\n",
    "display_chars(new_examples);"
   ],
   "execution_count": 7,
   "outputs": [
    {
     "data": {
      "text/plain": "<Figure size 640x480 with 3 Axes>",
      "image/png": "[encoded data removed]"
     },
     "metadata": {},
     "output_type": "display_data"
    }
   ]
  },
  {
   "cell_type": "code",
   "metadata": {
    "colab": {
     "base_uri": "https://localhost:8080/"
    },
    "id": "-3ZATGMF_D4h",
    "outputId": "eddc57b9-8d3d-431f-84ba-62c680ff3b22"
   },
   "source": [
    "test_set = [flatten(char) for char in new_examples]\n",
    "\n",
    "model.classify(test_set)"
   ],
   "execution_count": 8,
   "outputs": [
    {
     "data": {
      "text/plain": "['T', 'H', 'T']"
     },
     "execution_count": 8,
     "metadata": {},
     "output_type": "execute_result"
    }
   ]
  },
  {
   "cell_type": "markdown",
   "metadata": {
    "id": "WX3hXvlMM2L8"
   },
   "source": [
    "Nesse exemplo, não demos muita atenção hiperparâmetros do modelo, mas há alguns deles e o ajuste correto é extremamente para alcançar uma boa performance, especialmente em tarefas mais complexas. A lista de hiperparâmetros desse modelo e suas descrições podem ser vistas [aqui](https://iazero.github.io/wisardpkg/models/wisard)."
   ]
  },
  {
   "cell_type": "markdown",
   "metadata": {
    "id": "sBOj8cOmub1F"
   },
   "source": [
    "O que exatamente o modelo aprendeu? O que reside nos neurônios RAM? Podemos ter uma ideia através das imagens mentais do modelo:"
   ]
  },
  {
   "cell_type": "code",
   "metadata": {
    "colab": {
     "base_uri": "https://localhost:8080/",
     "height": 187
    },
    "id": "q7QVC5Y5sjvb",
    "outputId": "245dc279-1268-41a5-ed3c-d7d79ae2faa3"
   },
   "source": [
    "def inflate(char):\n",
    "  return np.reshape(char, (3, 3)).tolist()\n",
    "\n",
    "images = model.getMentalImages()\n",
    "\n",
    "display_chars([inflate(image) for image in images.values()]);"
   ],
   "execution_count": 9,
   "outputs": [
    {
     "data": {
      "text/plain": "<Figure size 640x480 with 2 Axes>",
      "image/png": "[encoded data removed]"
     },
     "metadata": {},
     "output_type": "display_data"
    }
   ]
  },
  {
   "cell_type": "markdown",
   "metadata": {
    "id": "c2N2yAM_uZk1"
   },
   "source": [
    "Nesse exemplo, as imagens mentais são exatamente os exemplos de treino, pois apresentamos apenas um exemplo por classe. No entanto, em uma tarefa mais realista, teríamos múltiplos exemplos por classe, cada um com suas particularidades. Nesses cenários, as imagens são bem mais difusas e mostram que o modelo tenta assimilar as características fundamentais das classes. Isso é bem visível nas imagens mentais de um modelo treinado sobre o MNIST."
   ]
  },
  {
   "cell_type": "markdown",
   "metadata": {
    "id": "6DDWeHLKD8jI"
   },
   "source": [
    "## 3. Indo além de exemplos simples\n",
    "\n",
    "Nesse momento, os resultados demonstrados acima podem não parecer muito impressionantes. Verdadeiramente, eles não são. Distinguir imagens compostas de meros 9 pixels não é uma tarefa difícil. No entanto, redes neurais sem peso não estão de forma alguma limitadas a problemas de tão baixas dimensões. Desde sua incepção, a WiSARD foi empregada em tarefas mais complicadas. Um exemplo de maiores dimensões, e que ainda assim não representa os limites do modelo, e a classificação de dígitos do conjunto de dados MNIST. A WiSARD é capaz de alcançar altos níveis de acurácia quando trainada e avalida com o MNIST."
   ]
  },
  {
   "cell_type": "code",
   "metadata": {
    "id": "KEl--QsMAhxZ"
   },
   "source": [
    "X, y = fetch_openml('mnist_784', version=1, return_X_y=True)\n",
    "X, y = np.array(X), np.array(y)"
   ],
   "execution_count": 10,
   "outputs": []
  },
  {
   "cell_type": "code",
   "metadata": {
    "id": "r46ZatAwUvOO"
   },
   "source": [
    "def sample_digit(target, X=X, y=y):\n",
    "    return next((digit for (digit, label) in zip(X, y) if label == str(target))).reshape((28,28))\n",
    "\n",
    "def display_mnist_digits():\n",
    "    fig, axs = plt.subplots(2, 5)\n",
    "    \n",
    "    for i in range(2):\n",
    "        for j in range(5):\n",
    "            axs[i, j].imshow(sample_digit(5*i + j), cmap=\"gray\")\n",
    "            axs[i, j].axes.xaxis.set_visible(False)\n",
    "            axs[i, j].axes.yaxis.set_visible(False)\n",
    "  \n",
    "    return fig"
   ],
   "execution_count": 19,
   "outputs": []
  },
  {
   "cell_type": "code",
   "metadata": {
    "colab": {
     "base_uri": "https://localhost:8080/",
     "height": 211
    },
    "id": "JpLZDtw7V60v",
    "outputId": "285e1613-9a4c-4b76-835b-c1d0bc95497c"
   },
   "source": [
    "display_mnist_digits();"
   ],
   "execution_count": 20,
   "outputs": [
    {
     "data": {
      "text/plain": "<Figure size 640x480 with 10 Axes>",
      "image/png": "[encoded data removed]"
     },
     "metadata": {},
     "output_type": "display_data"
    }
   ]
  },
  {
   "cell_type": "code",
   "metadata": {
    "colab": {
     "base_uri": "https://localhost:8080/"
    },
    "id": "Jb1FqfXUJr1h",
    "outputId": "eccbfaa8-9974-4767-f52e-b5c53769390a"
   },
   "source": [
    "X[0].shape"
   ],
   "execution_count": 21,
   "outputs": [
    {
     "data": {
      "text/plain": "(784,)"
     },
     "execution_count": 21,
     "metadata": {},
     "output_type": "execute_result"
    }
   ]
  },
  {
   "cell_type": "markdown",
   "metadata": {
    "id": "JT6Z47EQqyQs"
   },
   "source": [
    "Binarizando imagens:"
   ]
  },
  {
   "cell_type": "code",
   "metadata": {
    "id": "d4hfBw5QqnxO"
   },
   "source": [
    "def binarize(image, threshold):\n",
    "  return np.where(image > threshold, 1, 0).tolist()\n",
    "\n",
    "\n",
    "def binary_encoder(images, threshold=127):\n",
    "  return [binarize(image, threshold) for image in images]"
   ],
   "execution_count": 22,
   "outputs": []
  },
  {
   "cell_type": "code",
   "metadata": {
    "id": "Inx45W1mq1wl"
   },
   "source": [
    "X_bin = binary_encoder(X)"
   ],
   "execution_count": 23,
   "outputs": []
  },
  {
   "cell_type": "code",
   "metadata": {
    "id": "pEeZfUTdq-nY"
   },
   "source": [
    "X_train, X_test, y_train, y_test = train_test_split(X_bin, y, test_size=1/7, random_state=1)"
   ],
   "execution_count": 24,
   "outputs": []
  },
  {
   "cell_type": "markdown",
   "metadata": {
    "id": "-AhqxrnurJYq"
   },
   "source": [
    "Agora, vamos treinar um primeiro modelo WiSARD:"
   ]
  },
  {
   "cell_type": "code",
   "metadata": {
    "colab": {
     "base_uri": "https://localhost:8080/"
    },
    "id": "KEXfTRHLrGqx",
    "outputId": "dccb24c7-990f-4010-d3a7-2803d1a1bb85"
   },
   "source": [
    "%%time\n",
    "model = wp.Wisard(3)\n",
    "\n",
    "model.train(X_train, y_train.tolist())"
   ],
   "execution_count": 25,
   "outputs": [
    {
     "name": "stdout",
     "output_type": "stream",
     "text": [
      "CPU times: user 948 ms, sys: 32.2 ms, total: 980 ms\n",
      "Wall time: 992 ms\n"
     ]
    }
   ]
  },
  {
   "cell_type": "markdown",
   "metadata": {
    "id": "nX7-uoA1rM8g"
   },
   "source": [
    "Vamos definir uma função para medir a acurácia:"
   ]
  },
  {
   "cell_type": "code",
   "metadata": {
    "id": "f6jRiqgzrLnA"
   },
   "source": [
    "def accuracy(y_pred, y_target):\n",
    "  return np.where(y_pred == y_target, 1, 0).sum()/len(y_target)"
   ],
   "execution_count": 26,
   "outputs": []
  },
  {
   "cell_type": "code",
   "metadata": {
    "colab": {
     "base_uri": "https://localhost:8080/"
    },
    "id": "fXQrEfJ4rO01",
    "outputId": "965cf6bf-9293-49c4-ce7b-fc3421746006"
   },
   "source": [
    "%%time\n",
    "accuracy(model.classify(X_test), y_test)"
   ],
   "execution_count": 27,
   "outputs": [
    {
     "name": "stdout",
     "output_type": "stream",
     "text": [
      "CPU times: user 1min 7s, sys: 384 ms, total: 1min 8s\n",
      "Wall time: 1min 8s\n"
     ]
    },
    {
     "data": {
      "text/plain": "0.7033"
     },
     "execution_count": 27,
     "metadata": {},
     "output_type": "execute_result"
    }
   ]
  },
  {
   "cell_type": "markdown",
   "metadata": {
    "id": "i-lCv4z1rTk-"
   },
   "source": [
    "Variando o tamanho de tupla:"
   ]
  },
  {
   "cell_type": "code",
   "metadata": {
    "colab": {
     "base_uri": "https://localhost:8080/"
    },
    "id": "UL-HrqeirQV8",
    "outputId": "c033a4f9-58dd-4360-c5dc-fac2a587ab9f"
   },
   "source": [
    "%%time\n",
    "model_2 = wp.Wisard(28)\n",
    "\n",
    "model_2.train(X_train, y_train.tolist())\n",
    "\n",
    "print(accuracy(model_2.classify(X_test), y_test))"
   ],
   "execution_count": 28,
   "outputs": [
    {
     "name": "stdout",
     "output_type": "stream",
     "text": [
      "0.9074\n",
      "CPU times: user 1.3 s, sys: 27.2 ms, total: 1.33 s\n",
      "Wall time: 1.33 s\n"
     ]
    }
   ]
  },
  {
   "cell_type": "markdown",
   "metadata": {
    "id": "Zi2xgg-4qkPX"
   },
   "source": [
    "Imagens mentais:"
   ]
  },
  {
   "cell_type": "code",
   "metadata": {
    "id": "zJmh5wYboJGi"
   },
   "source": [
    "def display_digits(images):\n",
    "  fig, axs = plt.subplots(2, 5, squeeze=True)\n",
    "\n",
    "  for i, img in enumerate(images.values()):\n",
    "    img = np.reshape(img, (28, 28))\n",
    "    img = img/np.max(img)\n",
    "    fig.axes[i].imshow(img, cmap=\"gray\", vmin=0., vmax=1.)\n",
    "    fig.axes[i].xaxis.set_visible(False)\n",
    "    fig.axes[i].yaxis.set_visible(False)\n",
    "\n",
    "  return fig"
   ],
   "execution_count": 29,
   "outputs": []
  },
  {
   "cell_type": "code",
   "metadata": {
    "colab": {
     "base_uri": "https://localhost:8080/",
     "height": 211
    },
    "id": "7ThFYj8ZostH",
    "outputId": "7c70deb3-ddc4-442d-dbcd-3d1ca706acba"
   },
   "source": [
    "display_digits(model_2.getMentalImages());"
   ],
   "execution_count": 30,
   "outputs": [
    {
     "data": {
      "text/plain": "<Figure size 640x480 with 10 Axes>",
      "image/png": "[encoded data removed]"
     },
     "metadata": {},
     "output_type": "display_data"
    }
   ]
  },
  {
   "cell_type": "markdown",
   "metadata": {
    "id": "gTLcU4LbEe7j"
   },
   "source": [
    "ClusWiSARD"
   ]
  },
  {
   "cell_type": "code",
   "metadata": {
    "colab": {
     "base_uri": "https://localhost:8080/"
    },
    "id": "F5Y5fKQjEebM",
    "outputId": "30715f65-ba65-4f94-80a0-3427a032af3e"
   },
   "source": [
    "%%time\n",
    "model_clus = wp.ClusWisard(28, 0.1, 10, 5)\n",
    "\n",
    "model_clus.train(X_train, y_train.tolist())"
   ],
   "execution_count": 31,
   "outputs": [
    {
     "name": "stdout",
     "output_type": "stream",
     "text": [
      "CPU times: user 1.67 s, sys: 25.6 ms, total: 1.7 s\n",
      "Wall time: 1.75 s\n"
     ]
    }
   ]
  },
  {
   "cell_type": "code",
   "metadata": {
    "colab": {
     "base_uri": "https://localhost:8080/"
    },
    "id": "yrj4irWiE8-L",
    "outputId": "a445ca6c-4f4a-458b-a9dd-dfa62763b938"
   },
   "source": [
    "print(accuracy(model_clus.classify(X_test), y_test))"
   ],
   "execution_count": 32,
   "outputs": [
    {
     "name": "stdout",
     "output_type": "stream",
     "text": [
      "0.9178\n"
     ]
    }
   ]
  },
  {
   "cell_type": "code",
   "metadata": {
    "id": "z37Qiz0tFRbx"
   },
   "source": [
    "mimgs = model_clus.getMentalImages()\n",
    "mings = {label: np.array(mimgs[label]).sum(axis=0) for label in mimgs.keys()}"
   ],
   "execution_count": 33,
   "outputs": []
  },
  {
   "cell_type": "code",
   "source": [
    "display_digits(mings)"
   ],
   "metadata": {
    "id": "EHxXTaYwH85q",
    "outputId": "fcbfc3a8-071b-4aa6-92ed-81ec9d7039f2",
    "colab": {
     "base_uri": "https://localhost:8080/",
     "height": 405
    }
   },
   "execution_count": 34,
   "outputs": [
    {
     "data": {
      "text/plain": "<Figure size 640x480 with 10 Axes>",
      "image/png": "[encoded data removed]"
     },
     "execution_count": 34,
     "metadata": {},
     "output_type": "execute_result"
    },
    {
     "data": {
      "text/plain": "<Figure size 640x480 with 10 Axes>",
      "image/png": "[encoded data removed]"
     },
     "metadata": {},
     "output_type": "display_data"
    }
   ]
  }
 ]
}
