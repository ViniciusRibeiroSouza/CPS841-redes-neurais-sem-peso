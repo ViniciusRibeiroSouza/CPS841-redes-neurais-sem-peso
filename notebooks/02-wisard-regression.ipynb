{
 "nbformat": 4,
 "nbformat_minor": 0,
 "metadata": {
  "colab": {
   "provenance": []
  },
  "kernelspec": {
   "name": "python3",
   "display_name": "Python 3"
  },
  "language_info": {
   "name": "python"
  }
 },
 "cells": [
  {
   "cell_type": "code",
   "execution_count": null,
   "metadata": {
    "id": "JHzERfDGjR2j"
   },
   "outputs": [],
   "source": [
    "# !pip install pybind11; \n",
    "# !git clone --branch develop https://github.com/IAZero/wisardpkg.git; \n",
    "# !cd wisardpkg; python setup.py install;"
   ]
  },
  {
   "cell_type": "code",
   "source": [
    "# !pip install wisardpkg==2.0.0a7"
   ],
   "metadata": {
    "id": "H6nG1f7_0TwI",
    "colab": {
     "base_uri": "https://localhost:8080/"
    },
    "outputId": "8093494c-2186-43fb-9762-3ff6a98d0bb0"
   },
   "execution_count": 1,
   "outputs": []
  },
  {
   "cell_type": "code",
   "source": [
    "import wisardpkg as wp\n",
    "\n",
    "import numpy as np\n",
    "import matplotlib.pyplot as plt\n",
    "\n",
    "from sklearn.datasets import fetch_california_housing\n",
    "from sklearn.model_selection import train_test_split\n",
    "from sklearn import metrics"
   ],
   "metadata": {
    "id": "VnbCmf0BjVhH"
   },
   "execution_count": 2,
   "outputs": []
  },
  {
   "cell_type": "code",
   "source": [
    "def encode_var(var, borders, bins=10):\n",
    "  min, max = borders\n",
    "  k = (max - min)/bins\n",
    "  a = var - min\n",
    "  return np.array([1 if i <= a//k else 0 for i in range(bins)])\n",
    "\n",
    "def encode(x, ranges, bins=20):\n",
    "  data = [encode_var(v, b, bins=bins) for v, b in zip(x, ranges)]\n",
    "  return wp.BinInput(flatten(data))\n",
    "\n",
    "def flatten(var):\n",
    "  return np.reshape(var, (-1,)).tolist()\n",
    "\n",
    "def predict(model, X):\n",
    "  y_predict = []\n",
    "  for x  in X:\n",
    "    y_predict.append(model.predict(x))\n",
    "  return y_predict"
   ],
   "metadata": {
    "id": "5JVleR4JkTR5"
   },
   "execution_count": 3,
   "outputs": []
  },
  {
   "cell_type": "code",
   "source": [
    "info = fetch_california_housing()\n",
    "X, y = info['data'], info['target']"
   ],
   "metadata": {
    "id": "l9RPGNV5j30O"
   },
   "execution_count": 4,
   "outputs": []
  },
  {
   "cell_type": "code",
   "source": [
    "ranges = []\n",
    "for i in range(X.shape[1]):\n",
    "  ranges.append((np.min(X[:,i]), np.max(X[:,i])))\n",
    "ranges"
   ],
   "metadata": {
    "id": "meEWE1OqkK_u",
    "colab": {
     "base_uri": "https://localhost:8080/"
    },
    "outputId": "4dfb06fa-e32f-450f-febe-07dea076c317"
   },
   "execution_count": 5,
   "outputs": [
    {
     "data": {
      "text/plain": "[(0.4999, 15.0001),\n (1.0, 52.0),\n (0.8461538461538461, 141.9090909090909),\n (0.3333333333333333, 34.06666666666667),\n (3.0, 35682.0),\n (0.6923076923076923, 1243.3333333333333),\n (32.54, 41.95),\n (-124.35, -114.31)]"
     },
     "execution_count": 5,
     "metadata": {},
     "output_type": "execute_result"
    }
   ]
  },
  {
   "cell_type": "code",
   "source": [
    "X_bin = [encode(x, ranges, bins=20) for x in X]\n",
    "X_train, X_test, y_train, y_test = train_test_split(X_bin, y, test_size=0.3, random_state=1)"
   ],
   "metadata": {
    "id": "7XhjvM6WnSqD"
   },
   "execution_count": 6,
   "outputs": []
  },
  {
   "cell_type": "code",
   "source": [
    "model = wp.RegressionWisard(10, minOnes=2)"
   ],
   "metadata": {
    "id": "lnH8yTSupc2l"
   },
   "execution_count": 7,
   "outputs": [
    {
     "ename": "AttributeError",
     "evalue": "module 'wisardpkg' has no attribute 'RegressionWisard'",
     "output_type": "error",
     "traceback": [
      "\u001B[0;31m---------------------------------------------------------------------------\u001B[0m",
      "\u001B[0;31mAttributeError\u001B[0m                            Traceback (most recent call last)",
      "Cell \u001B[0;32mIn [7], line 1\u001B[0m\n\u001B[0;32m----> 1\u001B[0m model \u001B[38;5;241m=\u001B[39m \u001B[43mwp\u001B[49m\u001B[38;5;241;43m.\u001B[39;49m\u001B[43mRegressionWisard\u001B[49m(\u001B[38;5;241m10\u001B[39m, minOnes\u001B[38;5;241m=\u001B[39m\u001B[38;5;241m2\u001B[39m)\n",
      "\u001B[0;31mAttributeError\u001B[0m: module 'wisardpkg' has no attribute 'RegressionWisard'"
     ]
    }
   ]
  },
  {
   "cell_type": "code",
   "source": [
    "for x, y in zip(X_train, y_train):\n",
    "  model.train(x, y) "
   ],
   "metadata": {
    "id": "j3RUrTl_pZOp"
   },
   "execution_count": null,
   "outputs": []
  },
  {
   "cell_type": "code",
   "source": [
    "y_predict = predict(model, X_train)"
   ],
   "metadata": {
    "id": "nqDlcdwGc4sJ"
   },
   "execution_count": null,
   "outputs": []
  },
  {
   "cell_type": "code",
   "source": [
    "metrics.mean_absolute_error(y_train, y_predict), metrics.mean_squared_error(y_train, y_predict), metrics.r2_score(y_train, y_predict)"
   ],
   "metadata": {
    "colab": {
     "base_uri": "https://localhost:8080/"
    },
    "id": "I5XMzFs_ddzD",
    "outputId": "14d90bf4-0caa-486c-c939-45127a28a07c"
   },
   "execution_count": null,
   "outputs": []
  },
  {
   "cell_type": "code",
   "source": [
    "y_predict = predict(model, X_test)"
   ],
   "metadata": {
    "id": "WP0TbNDdd1EI"
   },
   "execution_count": null,
   "outputs": []
  },
  {
   "cell_type": "code",
   "source": [
    "metrics.mean_absolute_error(y_test, y_predict), metrics.mean_squared_error(y_test, y_predict), metrics.r2_score(y_test, y_predict)"
   ],
   "metadata": {
    "colab": {
     "base_uri": "https://localhost:8080/"
    },
    "id": "ODVY2ztveilF",
    "outputId": "a6b84a7c-0f10-4403-a9d3-131468f5e815"
   },
   "execution_count": null,
   "outputs": []
  },
  {
   "cell_type": "code",
   "source": [
    "mae_train, mse_train, r2_train = [], [], []\n",
    "mae_test, mse_test, r2_test = [], [], []\n",
    "\n",
    "\n",
    "for i in range(2, len(X_bin[0])):\n",
    "  model = wp.RegressionWisard(i, minOnes=2)\n",
    "\n",
    "  for x, y in zip(X_train, y_train):\n",
    "    model.train(x, y) \n",
    "  \n",
    "  y_predict = predict(model, X_train)\n",
    "\n",
    "  mae_train.append(metrics.mean_absolute_error(y_train, y_predict))\n",
    "  mse_train.append(metrics.mean_squared_error(y_train, y_predict)) \n",
    "  r2_train.append(metrics.r2_score(y_train, y_predict))\n",
    "\n",
    "  y_predict = predict(model, X_test)\n",
    "\n",
    "  mae_test.append(metrics.mean_absolute_error(y_test, y_predict))\n",
    "  mse_test.append(metrics.mean_squared_error(y_test, y_predict)) \n",
    "  r2_test.append(metrics.r2_score(y_test, y_predict))\n",
    "\n",
    "plt.plot(mae_test, label='MAE')\n",
    "plt.plot(mse_test, label='MSE')\n",
    "plt.plot(r2_test, label='R2')\n",
    "\n",
    "plt.legend()"
   ],
   "metadata": {
    "id": "B-kPveNwfQx-",
    "colab": {
     "base_uri": "https://localhost:8080/",
     "height": 282
    },
    "outputId": "312230df-d018-4454-ca32-3febf36e47ce"
   },
   "execution_count": null,
   "outputs": []
  }
 ]
}
